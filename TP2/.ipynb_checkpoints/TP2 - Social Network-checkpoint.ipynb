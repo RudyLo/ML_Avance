{
 "cells": [
  {
   "cell_type": "markdown",
   "metadata": {},
   "source": [
    "# Part 1. Graph representation in Python"
   ]
  },
  {
   "cell_type": "code",
   "execution_count": 1,
   "metadata": {},
   "outputs": [],
   "source": [
    "#Création de graph vite\n",
    "import networkx as nx\n",
    "\n",
    "\n",
    "G = nx.Graph()"
   ]
  },
  {
   "cell_type": "markdown",
   "metadata": {},
   "source": [
    "Ajout du noeud Mike"
   ]
  },
  {
   "cell_type": "code",
   "execution_count": 2,
   "metadata": {},
   "outputs": [],
   "source": [
    "G.add_node(\"Mike\")\n"
   ]
  },
  {
   "cell_type": "code",
   "execution_count": 3,
   "metadata": {},
   "outputs": [],
   "source": [
    "#Ajout des noeuds Amine, Rémi et Nick\n",
    "G.add_nodes_from([\"Amine\", \"Remi\", \"Nick\"])"
   ]
  },
  {
   "cell_type": "code",
   "execution_count": 4,
   "metadata": {},
   "outputs": [],
   "source": [
    "#Ajout de la relation Mike/Amine\n",
    "G.add_edge(\"Mike\", \"Amine\")"
   ]
  },
  {
   "cell_type": "code",
   "execution_count": 5,
   "metadata": {},
   "outputs": [],
   "source": [
    "#Ajout de la relation Amine/Remi\n",
    "G.add_edge(\"Amine\", \"Remi\")"
   ]
  },
  {
   "cell_type": "code",
   "execution_count": 6,
   "metadata": {},
   "outputs": [],
   "source": [
    "#Ajout de la relation Mike/Nick\n",
    "G.add_edge(\"Mike\", \"Nick\")"
   ]
  },
  {
   "cell_type": "code",
   "execution_count": 7,
   "metadata": {},
   "outputs": [
    {
     "data": {
      "image/png": "[encoded data removed]",
      "text/plain": [
       "<Figure size 432x288 with 1 Axes>"
      ]
     },
     "metadata": {},
     "output_type": "display_data"
    }
   ],
   "source": [
    "#Affichage du Graphe G\n",
    "import matplotlib.pyplot as plt\n",
    "\n",
    "\n",
    "subax1 = plt.subplot(121)\n",
    "nx.draw(G, with_labels=True, font_weight='bold')"
   ]
  },
  {
   "cell_type": "markdown",
   "metadata": {},
   "source": [
    "# Part 2. Calculating centrality metrics using Python"
   ]
  },
  {
   "cell_type": "code",
   "execution_count": 8,
   "metadata": {},
   "outputs": [],
   "source": [
    "G = nx.Graph()"
   ]
  },
  {
   "cell_type": "code",
   "execution_count": 9,
   "metadata": {},
   "outputs": [],
   "source": [
    "G.add_nodes_from([1,2, 3,4,5,6,7,8,9])"
   ]
  },
  {
   "cell_type": "code",
   "execution_count": 10,
   "metadata": {},
   "outputs": [],
   "source": [
    "G.add_edges_from([(7,2), (2,3), (7,4), (4,5), (7,3), (7,5), (1,6),(1,7),(2,8),(2,9)])"
   ]
  },
  {
   "cell_type": "code",
   "execution_count": 11,
   "metadata": {},
   "outputs": [
    {
     "data": {
      "image/png": "[encoded data removed]",
      "text/plain": [
       "<Figure size 432x288 with 1 Axes>"
      ]
     },
     "metadata": {},
     "output_type": "display_data"
    }
   ],
   "source": [
    "#Affichage du graph\n",
    "subax1 = plt.subplot(121)\n",
    "nx.draw(G, with_labels=True, font_weight='bold')"
   ]
  },
  {
   "cell_type": "markdown",
   "metadata": {},
   "source": [
    "## Degree Centrality"
   ]
  },
  {
   "cell_type": "code",
   "execution_count": 12,
   "metadata": {},
   "outputs": [
    {
     "data": {
      "text/plain": [
       "{1: 0.25,\n",
       " 2: 0.5,\n",
       " 3: 0.25,\n",
       " 4: 0.25,\n",
       " 5: 0.25,\n",
       " 6: 0.125,\n",
       " 7: 0.625,\n",
       " 8: 0.125,\n",
       " 9: 0.125}"
      ]
     },
     "execution_count": 12,
     "metadata": {},
     "output_type": "execute_result"
    }
   ],
   "source": [
    "nx.degree_centrality(G)"
   ]
  },
  {
   "cell_type": "markdown",
   "metadata": {},
   "source": [
    "La centralité représente au nombre de sommet connecté au noeud n, divisé par le nombre de noeud restant n - 1, par exemple pour le noeud 7, qui à la plus grande valeur, on a 5 arrètes connectées divisé par 9-1 = 8 soit 5/8 = 0.625\n",
    "\n",
    "On observe ici que le noeud numéro 7 est le plus grand car il à le plus d'arrètes connectées à lui.\n"
   ]
  },
  {
   "cell_type": "markdown",
   "metadata": {},
   "source": [
    "## Betweenness Centrality"
   ]
  },
  {
   "cell_type": "code",
   "execution_count": 13,
   "metadata": {},
   "outputs": [
    {
     "data": {
      "text/plain": [
       "{1: 0.25,\n",
       " 2: 0.46428571428571425,\n",
       " 3: 0.0,\n",
       " 4: 0.0,\n",
       " 5: 0.0,\n",
       " 6: 0.0,\n",
       " 7: 0.7142857142857142,\n",
       " 8: 0.0,\n",
       " 9: 0.0}"
      ]
     },
     "execution_count": 13,
     "metadata": {},
     "output_type": "execute_result"
    }
   ],
   "source": [
    "nx.betweenness_centrality(G)"
   ]
  },
  {
   "cell_type": "markdown",
   "metadata": {},
   "source": [
    "La betweenness centrality représente le taux de passage par un noeud n pour tout nos plus court chemin, plus celui-ci sera proche de 1, plus ce noeud sera un point de passage pour les plus courts chemins.\n",
    "\n",
    "On observe que le noeud 7 est le plus actif lors du calcul des plus courts chemins entre tous nos noeux"
   ]
  },
  {
   "cell_type": "markdown",
   "metadata": {},
   "source": [
    "## Closeness Centrality"
   ]
  },
  {
   "cell_type": "code",
   "execution_count": 14,
   "metadata": {},
   "outputs": [
    {
     "data": {
      "text/plain": [
       "{1: 0.5,\n",
       " 2: 0.6153846153846154,\n",
       " 3: 0.5333333333333333,\n",
       " 4: 0.47058823529411764,\n",
       " 5: 0.47058823529411764,\n",
       " 6: 0.34782608695652173,\n",
       " 7: 0.7272727272727273,\n",
       " 8: 0.4,\n",
       " 9: 0.4}"
      ]
     },
     "execution_count": 14,
     "metadata": {},
     "output_type": "execute_result"
    }
   ],
   "source": [
    "nx.closeness_centrality(G)"
   ]
  },
  {
   "cell_type": "code",
   "execution_count": null,
   "metadata": {},
   "outputs": [],
   "source": []
  },
  {
   "cell_type": "code",
   "execution_count": null,
   "metadata": {},
   "outputs": [],
   "source": []
  },
  {
   "cell_type": "markdown",
   "metadata": {},
   "source": [
    "# Part 3. Fraud Analytics"
   ]
  },
  {
   "cell_type": "code",
   "execution_count": 15,
   "metadata": {},
   "outputs": [
    {
     "data": {
      "image/png": "[encoded data removed]",
      "text/plain": [
       "<Figure size 432x288 with 1 Axes>"
      ]
     },
     "metadata": {},
     "output_type": "display_data"
    }
   ],
   "source": [
    "G = nx.Graph()\n",
    "G.add_nodes_from([1,2, 3,4,5,6,7,8,9])\n",
    "G.add_edges_from([(7,2), (2,3), (7,4), (4,5), (7,3), (7,5),(1,6),(1,7),(2,8),(2,9)])\n",
    "\n",
    "#Affichage du graph\n",
    "subax1 = plt.subplot(121)\n",
    "nx.draw(G, with_labels=True, font_weight='bold')"
   ]
  },
  {
   "cell_type": "code",
   "execution_count": 16,
   "metadata": {},
   "outputs": [],
   "source": [
    "G.add_nodes_from([2,5,6,7], fraud='F')\n",
    "G.add_nodes_from([1,4,3,8,9], fraud='NF')"
   ]
  },
  {
   "cell_type": "code",
   "execution_count": 17,
   "metadata": {},
   "outputs": [
    {
     "data": {
      "image/png": "[encoded data removed]",
      "text/plain": [
       "<Figure size 432x288 with 1 Axes>"
      ]
     },
     "metadata": {},
     "output_type": "display_data"
    }
   ],
   "source": [
    "nx.draw(G, with_labels=True, font_weight='bold')"
   ]
  },
  {
   "cell_type": "code",
   "execution_count": 18,
   "metadata": {},
   "outputs": [],
   "source": [
    "labels = nx.get_node_attributes(G,'fraud') "
   ]
  },
  {
   "cell_type": "code",
   "execution_count": 19,
   "metadata": {},
   "outputs": [
    {
     "data": {
      "image/png": "[encoded data removed]",
      "text/plain": [
       "<Figure size 432x288 with 1 Axes>"
      ]
     },
     "metadata": {},
     "output_type": "display_data"
    }
   ],
   "source": [
    "\n",
    "NF = [1,4,3,8,9]\n",
    "F = [2,5,6,7]\n",
    "color_map = []\n",
    "labels = {}\n",
    "for i in G.nodes():\n",
    "    if i in NF:\n",
    "        color_map.append('green')\n",
    "        labels[i] = str(i) + \" NF\"\n",
    "    else:\n",
    "        color_map.append('red')\n",
    "        labels[i] = str(i) + \" F\"\n",
    "nx.draw(G, labels=labels, node_color=color_map, font_size=12, node_size=1000 )"
   ]
  },
  {
   "cell_type": "markdown",
   "metadata": {},
   "source": [
    "La fonction de détection de fraude :\n",
    "    - On introduit un noeud\n",
    "    - On vérifie la probabilité du noeud :\n",
    "        - On calcul 1/degré du noeud q introduit\n",
    "        - On multiplie ce résultat à son poid n multiplié par les poids des relation auquel il est lié w(n,nj)\n",
    "        - Exemple q est relié à 2 noeuds avec un poids de 0.3 pour n1 et 0.4 pour n2 :\n",
    "            - 1/2\n",
    "            - (0.3+0.4) = 0.7\n",
    "            - 0.5 * 0.7 = 0.35\n",
    "            La probabilité que ce noeuds soit impliqué dans une fraude est de 35%"
   ]
  },
  {
   "cell_type": "markdown",
   "metadata": {},
   "source": [
    "### Ajout de poids\n",
    "On ajoute des poids à nos relations, nous partons du principe qu'une relation F-F a un poids de 1, une relation entre un F-NF a un poids de 0.5 et une relation entre NF-NF à un poids de 0."
   ]
  },
  {
   "cell_type": "code",
   "execution_count": 31,
   "metadata": {},
   "outputs": [],
   "source": [
    "G_poids = nx.Graph()\n",
    "G_poids.add_nodes_from([1,2, 3,4,5,6,7,8,9])\n",
    "\n",
    "\n",
    "G_poids.add_weighted_edges_from([(7,2,1.0), (2,3,0.5), (7,4,0.5), (4,5,0.5), (7,3,0.5), (7,5,1.0),(1,6,0.5),(1,7,0.5),(2,8,0.5),(2,9,0.5)])"
   ]
  },
  {
   "cell_type": "code",
   "execution_count": 32,
   "metadata": {},
   "outputs": [
    {
     "data": {
      "image/png": "[encoded data removed]",
      "text/plain": [
       "<Figure size 432x288 with 1 Axes>"
      ]
     },
     "metadata": {},
     "output_type": "display_data"
    }
   ],
   "source": [
    "NF = [1,4,3,8,9]\n",
    "F = [2,5,6,7]\n",
    "color_map = []\n",
    "labels = {}\n",
    "for i in G_poids.nodes():\n",
    "    if i in NF:\n",
    "        color_map.append('green')\n",
    "        labels[i] = str(i) + \" NF\"\n",
    "    else:\n",
    "        color_map.append('red')\n",
    "        labels[i] = str(i) + \" F\"\n",
    "nx.draw(G_poids, labels=labels, node_color=color_map, font_size=12, node_size=1000 )"
   ]
  },
  {
   "cell_type": "markdown",
   "metadata": {},
   "source": [
    "# Simple fraud analytics"
   ]
  },
  {
   "cell_type": "code",
   "execution_count": 112,
   "metadata": {},
   "outputs": [],
   "source": [
    "G_poids.add_node(10)"
   ]
  },
  {
   "cell_type": "code",
   "execution_count": 113,
   "metadata": {},
   "outputs": [],
   "source": [
    "G_poids.add_edges_from([(10,6),(10,1),(10,4)])"
   ]
  },
  {
   "cell_type": "code",
   "execution_count": 114,
   "metadata": {},
   "outputs": [],
   "source": [
    "tab = list(G_poids.edges(10))"
   ]
  },
  {
   "cell_type": "code",
   "execution_count": 115,
   "metadata": {},
   "outputs": [
    {
     "data": {
      "text/plain": [
       "[1, 0, 0]"
      ]
     },
     "execution_count": 115,
     "metadata": {},
     "output_type": "execute_result"
    }
   ],
   "source": [
    "NF = [1,4,3,8,9]\n",
    "F = [2,5,6,7]\n",
    "weight = []\n",
    "tab = list(G_poids.edges(10))\n",
    "#On parcours la première dimension de notre tuple représentant nos relations\n",
    "for i in range(0,3):\n",
    "    if tab[i][1] in NF:\n",
    "        weight.append(0) \n",
    "    else :\n",
    "        weight.append(1)\n",
    "weight"
   ]
  },
  {
   "cell_type": "code",
   "execution_count": 118,
   "metadata": {},
   "outputs": [
    {
     "data": {
      "text/plain": [
       "1"
      ]
     },
     "execution_count": 118,
     "metadata": {},
     "output_type": "execute_result"
    }
   ],
   "source": [
    "#On compte le nombre de poids égaux à 1\n",
    "weight.count(1)"
   ]
  },
  {
   "cell_type": "code",
   "execution_count": 120,
   "metadata": {},
   "outputs": [],
   "source": [
    "#On applique la formule de probabilité de la fraude\n",
    "p = 1/G_poids.degree(10) * weight.count(1)"
   ]
  },
  {
   "cell_type": "code",
   "execution_count": 123,
   "metadata": {},
   "outputs": [
    {
     "data": {
      "text/plain": [
       "False"
      ]
     },
     "execution_count": 123,
     "metadata": {},
     "output_type": "execute_result"
    }
   ],
   "source": [
    "p\n",
    "\n",
    "#On applique notre seuil de faude, si p est supérieur alors on considère notre noeud comme étant frauduleux\n",
    "T = 0.5\n",
    "\n",
    "p>t"
   ]
  },
  {
   "cell_type": "markdown",
   "metadata": {},
   "source": [
    "Ici, on observe que p est inférieur à T, on en conclu que le noeud introduit dans notre réseau est non frauduleux."
   ]
  },
  {
   "cell_type": "code",
   "execution_count": 126,
   "metadata": {},
   "outputs": [
    {
     "data": {
      "image/png": "[encoded data removed]",
      "text/plain": [
       "<Figure size 432x288 with 1 Axes>"
      ]
     },
     "metadata": {},
     "output_type": "display_data"
    }
   ],
   "source": [
    "NF = [1,4,3,8,9,10]\n",
    "F = [2,5,6,7]\n",
    "color_map = []\n",
    "labels = {}\n",
    "for i in G_poids.nodes():\n",
    "    if i in NF:\n",
    "        color_map.append('green')\n",
    "        labels[i] = str(i) + \" NF\"\n",
    "    else:\n",
    "        color_map.append('red')\n",
    "        labels[i] = str(i) + \" F\"\n",
    "nx.draw(G_poids, labels=labels, node_color=color_map, font_size=12, node_size=1000 )"
   ]
  },
  {
   "cell_type": "markdown",
   "metadata": {},
   "source": [
    "# Scoring negative outcomes"
   ]
  },
  {
   "cell_type": "code",
   "execution_count": 128,
   "metadata": {},
   "outputs": [],
   "source": [
    "G_new = nx.Graph()\n",
    "G_new.add_nodes_from([1,2, 3,4,5,6,7,8,9])\n",
    "\n",
    "\n",
    "G_new.add_edges_from([(7,2), (2,3), (7,4), (4,5), (7,3), (7,5),(1,6),(1,7),(2,8),(2,9)])"
   ]
  },
  {
   "cell_type": "code",
   "execution_count": 130,
   "metadata": {},
   "outputs": [
    {
     "data": {
      "image/png": "[encoded data removed]",
      "text/plain": [
       "<Figure size 432x288 with 1 Axes>"
      ]
     },
     "metadata": {},
     "output_type": "display_data"
    }
   ],
   "source": [
    "\n",
    "NF = [1,4,3,8,9]\n",
    "F = [2,5,6,7]\n",
    "color_map = []\n",
    "labels = {}\n",
    "for i in G_new.nodes():\n",
    "    if i in NF:\n",
    "        color_map.append('green')\n",
    "        labels[i] = str(i) + \" NF\"\n",
    "    else:\n",
    "        color_map.append('red')\n",
    "        labels[i] = str(i) + \" F\"\n",
    "nx.draw(G_new, labels=labels, node_color=color_map, font_size=12, node_size=1000 )"
   ]
  },
  {
   "cell_type": "markdown",
   "metadata": {},
   "source": [
    "## Degree Centrality"
   ]
  },
  {
   "cell_type": "code",
   "execution_count": 139,
   "metadata": {},
   "outputs": [
    {
     "data": {
      "text/plain": [
       "{1: 0.25,\n",
       " 2: 0.5,\n",
       " 3: 0.25,\n",
       " 4: 0.25,\n",
       " 5: 0.25,\n",
       " 6: 0.125,\n",
       " 7: 0.625,\n",
       " 8: 0.125,\n",
       " 9: 0.125}"
      ]
     },
     "execution_count": 139,
     "metadata": {},
     "output_type": "execute_result"
    }
   ],
   "source": [
    "d_c = nx.degree_centrality(G_new)\n",
    "d_c "
   ]
  },
  {
   "cell_type": "markdown",
   "metadata": {},
   "source": [
    "## Betweenness Centrality"
   ]
  },
  {
   "cell_type": "code",
   "execution_count": 140,
   "metadata": {},
   "outputs": [
    {
     "data": {
      "text/plain": [
       "{1: 0.25,\n",
       " 2: 0.46428571428571425,\n",
       " 3: 0.0,\n",
       " 4: 0.0,\n",
       " 5: 0.0,\n",
       " 6: 0.0,\n",
       " 7: 0.7142857142857142,\n",
       " 8: 0.0,\n",
       " 9: 0.0}"
      ]
     },
     "execution_count": 140,
     "metadata": {},
     "output_type": "execute_result"
    }
   ],
   "source": [
    "b_c = nx.betweenness_centrality(G_new)\n",
    "b_c"
   ]
  },
  {
   "cell_type": "markdown",
   "metadata": {},
   "source": [
    "## Closeness Centrality"
   ]
  },
  {
   "cell_type": "code",
   "execution_count": 141,
   "metadata": {},
   "outputs": [
    {
     "data": {
      "text/plain": [
       "{1: 0.5,\n",
       " 2: 0.6153846153846154,\n",
       " 3: 0.5333333333333333,\n",
       " 4: 0.47058823529411764,\n",
       " 5: 0.47058823529411764,\n",
       " 6: 0.34782608695652173,\n",
       " 7: 0.7272727272727273,\n",
       " 8: 0.4,\n",
       " 9: 0.4}"
      ]
     },
     "execution_count": 141,
     "metadata": {},
     "output_type": "execute_result"
    }
   ],
   "source": [
    "c_c = nx.closeness_centrality(G_new)\n",
    "c_c"
   ]
  },
  {
   "cell_type": "markdown",
   "metadata": {},
   "source": [
    "## EigenVector Centrality"
   ]
  },
  {
   "cell_type": "code",
   "execution_count": 142,
   "metadata": {},
   "outputs": [
    {
     "data": {
      "text/plain": [
       "{1: 0.23718954703334272,\n",
       " 2: 0.44568334430993706,\n",
       " 3: 0.3644005791401007,\n",
       " 4: 0.3204396611665085,\n",
       " 5: 0.3204396611665085,\n",
       " 6: 0.08325088296668741,\n",
       " 7: 0.5925237685713423,\n",
       " 8: 0.15643115829567805,\n",
       " 9: 0.15643115829567805}"
      ]
     },
     "execution_count": 142,
     "metadata": {},
     "output_type": "execute_result"
    }
   ],
   "source": [
    "ev_c = nx.eigenvector_centrality(G_new)\n",
    "ev_c"
   ]
  },
  {
   "cell_type": "code",
   "execution_count": 157,
   "metadata": {},
   "outputs": [],
   "source": [
    "#On stock nos moyennes dans une liste\n",
    "list_mean = []\n",
    "for i in range(1,10):\n",
    "    list_mean.append((d_c[i] + b_c[i] + c_c[i] + ev_c[i])  / 4)"
   ]
  },
  {
   "cell_type": "code",
   "execution_count": 156,
   "metadata": {},
   "outputs": [
    {
     "data": {
      "text/plain": [
       "[0.3092973867583357,\n",
       " 0.5063384184950667,\n",
       " 0.2869334781183585,\n",
       " 0.2602569741151565,\n",
       " 0.2602569741151565,\n",
       " 0.13901924248080227,\n",
       " 0.6647705525324459,\n",
       " 0.1703577895739195,\n",
       " 0.1703577895739195]"
      ]
     },
     "execution_count": 156,
     "metadata": {},
     "output_type": "execute_result"
    }
   ],
   "source": [
    "list_mean\n"
   ]
  },
  {
   "cell_type": "markdown",
   "metadata": {},
   "source": [
    "Noeuds frauduleux : [2,5,6,7]\n"
   ]
  },
  {
   "cell_type": "code",
   "execution_count": 160,
   "metadata": {},
   "outputs": [
    {
     "name": "stdout",
     "output_type": "stream",
     "text": [
      "Score négativité pour le noeud 2 :  0.5063384184950667\n",
      "Score négativité pour le noeud 5 :  0.2602569741151565\n",
      "Score négativité pour le noeud 6 :  0.13901924248080227\n",
      "Score négativité pour le noeud 7 :  0.6647705525324459\n"
     ]
    }
   ],
   "source": [
    "print(\"Score négativité pour le noeud 2 : \", list_mean[1])\n",
    "print(\"Score négativité pour le noeud 5 : \", list_mean[4])\n",
    "print(\"Score négativité pour le noeud 6 : \", list_mean[5])\n",
    "print(\"Score négativité pour le noeud 7 : \", list_mean[6])"
   ]
  },
  {
   "cell_type": "code",
   "execution_count": 162,
   "metadata": {},
   "outputs": [],
   "source": [
    "mean_list_mean = sum(list_mean) / len(list_mean)"
   ]
  },
  {
   "cell_type": "code",
   "execution_count": 163,
   "metadata": {},
   "outputs": [
    {
     "data": {
      "text/plain": [
       "0.30750984508479573"
      ]
     },
     "execution_count": 163,
     "metadata": {},
     "output_type": "execute_result"
    }
   ],
   "source": [
    "mean_list_mean"
   ]
  },
  {
   "cell_type": "code",
   "execution_count": 165,
   "metadata": {},
   "outputs": [
    {
     "name": "stdout",
     "output_type": "stream",
     "text": [
      "DOS pour le noeud 2 :  0.1557040486318984\n",
      "DOS pour le noeud 5 :  0.08003158179238948\n",
      "DOS pour le noeud 6 :  0.042749785719077164\n",
      "DOS pour le noeud 7 :  0.2044234896261865\n"
     ]
    }
   ],
   "source": [
    "print(\"DOS pour le noeud 2 : \", list_mean[1] * mean_list_mean)\n",
    "print(\"DOS pour le noeud 5 : \", list_mean[4] * mean_list_mean)\n",
    "print(\"DOS pour le noeud 6 : \", list_mean[5] * mean_list_mean)\n",
    "print(\"DOS pour le noeud 7 : \", list_mean[6] * mean_list_mean)"
   ]
  },
  {
   "cell_type": "code",
   "execution_count": 166,
   "metadata": {},
   "outputs": [],
   "source": [
    "dos_1 =  list_mean[1] * mean_list_mean\n",
    "dos_5 =  list_mean[4] * mean_list_mean\n",
    "dos_6 =  list_mean[5] * mean_list_mean\n",
    "dos_7 =  list_mean[6] * mean_list_mean\n"
   ]
  },
  {
   "cell_type": "code",
   "execution_count": 167,
   "metadata": {},
   "outputs": [
    {
     "name": "stdout",
     "output_type": "stream",
     "text": [
      "DOS pour le noeud 2 :  0.7616739588812539\n",
      "DOS pour le noeud 5 :  0.39149895121513223\n",
      "DOS pour le noeud 6 :  0.20912364717601878\n",
      "DOS pour le noeud 7 :  1.0\n"
     ]
    }
   ],
   "source": [
    "print(\"DOS pour le noeud 2 : \", dos_1 / dos_7)\n",
    "print(\"DOS pour le noeud 5 : \", dos_5 / dos_7)\n",
    "print(\"DOS pour le noeud 6 : \", dos_6 / dos_7)\n",
    "print(\"DOS pour le noeud 7 : \", dos_7 / dos_7)"
   ]
  },
  {
   "cell_type": "code",
   "execution_count": null,
   "metadata": {},
   "outputs": [],
   "source": []
  }
 ],
 "metadata": {
  "kernelspec": {
   "display_name": "Python 3",
   "language": "python",
   "name": "python3"
  },
  "language_info": {
   "codemirror_mode": {
    "name": "ipython",
    "version": 3
   },
   "file_extension": ".py",
   "mimetype": "text/x-python",
   "name": "python",
   "nbconvert_exporter": "python",
   "pygments_lexer": "ipython3",
   "version": "3.7.6"
  }
 },
 "nbformat": 4,
 "nbformat_minor": 4
}
